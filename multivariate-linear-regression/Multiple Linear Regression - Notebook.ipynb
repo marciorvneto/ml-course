{
 "cells": [
  {
   "cell_type": "markdown",
   "id": "b33e437e",
   "metadata": {},
   "source": [
    "# Implementing Multiple Linear Regression\n",
    "\n",
    "We are now ready to actually implement a multiple regression model from scratch using Python!\n",
    "\n",
    "As we did in univariate linear regression, we'll start by importing two libraries: `numpy` for handling matrix computations, and `pandas` for importing, exporting and visualizing our data.\n",
    "\n",
    "Recall our importing syntax:"
   ]
  },
  {
   "cell_type": "code",
   "execution_count": 1,
   "id": "affc7f38",
   "metadata": {},
   "outputs": [],
   "source": [
    "import numpy as np\n",
    "import pandas as pd"
   ]
  },
  {
   "cell_type": "markdown",
   "id": "26b43cb3",
   "metadata": {},
   "source": [
    "We'll now use `pandas` to read our apartments price dataset into a `pandas` dataframe `df`."
   ]
  },
  {
   "cell_type": "code",
   "execution_count": 2,
   "id": "44aea107",
   "metadata": {},
   "outputs": [
    {
     "data": {
      "text/html": [
       "<div>\n",
       "<style scoped>\n",
       "    .dataframe tbody tr th:only-of-type {\n",
       "        vertical-align: middle;\n",
       "    }\n",
       "\n",
       "    .dataframe tbody tr th {\n",
       "        vertical-align: top;\n",
       "    }\n",
       "\n",
       "    .dataframe thead th {\n",
       "        text-align: right;\n",
       "    }\n",
       "</style>\n",
       "<table border=\"1\" class=\"dataframe\">\n",
       "  <thead>\n",
       "    <tr style=\"text-align: right;\">\n",
       "      <th></th>\n",
       "      <th>area</th>\n",
       "      <th>distance</th>\n",
       "      <th>price</th>\n",
       "    </tr>\n",
       "  </thead>\n",
       "  <tbody>\n",
       "    <tr>\n",
       "      <th>0</th>\n",
       "      <td>233.195903</td>\n",
       "      <td>5.225684</td>\n",
       "      <td>95.583693</td>\n",
       "    </tr>\n",
       "    <tr>\n",
       "      <th>1</th>\n",
       "      <td>622.439384</td>\n",
       "      <td>4.307008</td>\n",
       "      <td>436.316403</td>\n",
       "    </tr>\n",
       "    <tr>\n",
       "      <th>2</th>\n",
       "      <td>224.031493</td>\n",
       "      <td>0.569811</td>\n",
       "      <td>409.196526</td>\n",
       "    </tr>\n",
       "    <tr>\n",
       "      <th>3</th>\n",
       "      <td>651.166545</td>\n",
       "      <td>1.252389</td>\n",
       "      <td>1056.426581</td>\n",
       "    </tr>\n",
       "    <tr>\n",
       "      <th>4</th>\n",
       "      <td>393.046713</td>\n",
       "      <td>2.562094</td>\n",
       "      <td>481.424518</td>\n",
       "    </tr>\n",
       "    <tr>\n",
       "      <th>...</th>\n",
       "      <td>...</td>\n",
       "      <td>...</td>\n",
       "      <td>...</td>\n",
       "    </tr>\n",
       "    <tr>\n",
       "      <th>95</th>\n",
       "      <td>367.964697</td>\n",
       "      <td>4.186910</td>\n",
       "      <td>269.551966</td>\n",
       "    </tr>\n",
       "    <tr>\n",
       "      <th>96</th>\n",
       "      <td>580.285852</td>\n",
       "      <td>3.323017</td>\n",
       "      <td>578.758837</td>\n",
       "    </tr>\n",
       "    <tr>\n",
       "      <th>97</th>\n",
       "      <td>112.234827</td>\n",
       "      <td>1.846154</td>\n",
       "      <td>160.462673</td>\n",
       "    </tr>\n",
       "    <tr>\n",
       "      <th>98</th>\n",
       "      <td>443.571189</td>\n",
       "      <td>1.528155</td>\n",
       "      <td>682.260565</td>\n",
       "    </tr>\n",
       "    <tr>\n",
       "      <th>99</th>\n",
       "      <td>346.830169</td>\n",
       "      <td>0.656330</td>\n",
       "      <td>624.713504</td>\n",
       "    </tr>\n",
       "  </tbody>\n",
       "</table>\n",
       "<p>100 rows × 3 columns</p>\n",
       "</div>"
      ],
      "text/plain": [
       "          area  distance        price\n",
       "0   233.195903  5.225684    95.583693\n",
       "1   622.439384  4.307008   436.316403\n",
       "2   224.031493  0.569811   409.196526\n",
       "3   651.166545  1.252389  1056.426581\n",
       "4   393.046713  2.562094   481.424518\n",
       "..         ...       ...          ...\n",
       "95  367.964697  4.186910   269.551966\n",
       "96  580.285852  3.323017   578.758837\n",
       "97  112.234827  1.846154   160.462673\n",
       "98  443.571189  1.528155   682.260565\n",
       "99  346.830169  0.656330   624.713504\n",
       "\n",
       "[100 rows x 3 columns]"
      ]
     },
     "execution_count": 2,
     "metadata": {},
     "output_type": "execute_result"
    }
   ],
   "source": [
    "df = pd.read_csv(\"https://raw.githubusercontent.com/marciorvneto/ml-course/main/multivariate-linear-regression/apartments.csv\")\n",
    "df"
   ]
  },
  {
   "cell_type": "markdown",
   "id": "1b1e1fc7",
   "metadata": {},
   "source": [
    "## Visualizing our data using scatter plots\n",
    "\n",
    "It is always a good idea to get a sense of our data before attempting to train any models on it. For high-dimensional data, a nice way of visualizing pairwise relations between features is by using a scatter plot matrix. Pandas makes this very simple for us:"
   ]
  },
  {
   "cell_type": "code",
   "execution_count": 3,
   "id": "3bbbc59d",
   "metadata": {},
   "outputs": [
    {
     "data": {
      "text/plain": [
       "array([[<AxesSubplot:xlabel='area', ylabel='area'>,\n",
       "        <AxesSubplot:xlabel='distance', ylabel='area'>,\n",
       "        <AxesSubplot:xlabel='price', ylabel='area'>],\n",
       "       [<AxesSubplot:xlabel='area', ylabel='distance'>,\n",
       "        <AxesSubplot:xlabel='distance', ylabel='distance'>,\n",
       "        <AxesSubplot:xlabel='price', ylabel='distance'>],\n",
       "       [<AxesSubplot:xlabel='area', ylabel='price'>,\n",
       "        <AxesSubplot:xlabel='distance', ylabel='price'>,\n",
       "        <AxesSubplot:xlabel='price', ylabel='price'>]], dtype=object)"
      ]
     },
     "execution_count": 3,
     "metadata": {},
     "output_type": "execute_result"
    },
    {
     "data": {
      "image/png": "[encoded data removed]",
      "text/plain": [
       "<Figure size 640x480 with 9 Axes>"
      ]
     },
     "metadata": {},
     "output_type": "display_data"
    }
   ],
   "source": [
    "pd.plotting.scatter_matrix(df)"
   ]
  },
  {
   "cell_type": "markdown",
   "id": "d7a00aff",
   "metadata": {},
   "source": [
    "## Splitting our data into training and testing datasets\n",
    "\n",
    "As we've discussed before, we should split our dataset into a training dataset and a testing dataset. We fit our model with the training data, and evaluate its performance using data that it's never seen before - the test data.\n",
    "\n",
    "We'll proceed as before, by doing a 70%/30% split on our data:"
   ]
  },
  {
   "cell_type": "code",
   "execution_count": 4,
   "id": "5d13503d",
   "metadata": {},
   "outputs": [],
   "source": [
    "percent_training = 0.7\n",
    "percent_test = 1 - percent_training"
   ]
  },
  {
   "cell_type": "markdown",
   "id": "6d56dc97",
   "metadata": {},
   "source": [
    "As we've mentioned in our last demonstration, it's good practice to shuffle our training data to break possible sequential correlations between our data points."
   ]
  },
  {
   "cell_type": "code",
   "execution_count": 5,
   "id": "572c1f15",
   "metadata": {},
   "outputs": [
    {
     "data": {
      "text/plain": [
       "array([19, 73, 36, 31, 35, 42, 97, 64, 39, 85, 51, 12, 67, 45, 77, 40, 15,\n",
       "       44, 66, 23, 14, 90, 38, 26, 94, 55, 33, 72, 58, 87,  5, 21,  2, 25,\n",
       "       80, 29,  1, 88, 84, 75,  7, 93, 63, 48, 91, 98, 81, 95, 28, 53, 92,\n",
       "       69, 59, 49, 68, 32,  3, 65, 18,  4, 52, 30,  0,  9, 71, 20, 37, 79,\n",
       "       43, 22, 60, 57, 54, 82, 89, 70, 27, 86, 11, 78,  8, 76, 83, 17, 34,\n",
       "       50, 24, 41, 74, 46, 16, 96, 47, 61, 13, 99, 62,  6, 10, 56])"
      ]
     },
     "execution_count": 5,
     "metadata": {},
     "output_type": "execute_result"
    }
   ],
   "source": [
    "num_total_data = len(df)                                  # Total number of data points\n",
    "num_training_data = int(percent_training*num_total_data)  # Number of training data points\n",
    "num_test_data = num_total_data - num_training_data        # Number of test data points\n",
    "\n",
    "indices = np.arange(num_total_data)                       # Create an array of indices for our data\n",
    "np.random.shuffle(indices)                                # Shuffle the indices\n",
    "indices"
   ]
  },
  {
   "cell_type": "markdown",
   "id": "c3a8e20b",
   "metadata": {},
   "source": [
    "Notice that the indices have been permuted. Now, all we've got left to do is select the first `num_training_data` indices as our training indices, and select the remaining ones to be our test indices:"
   ]
  },
  {
   "cell_type": "code",
   "execution_count": 6,
   "id": "297ff0de",
   "metadata": {},
   "outputs": [],
   "source": [
    "training_indices = indices[:num_training_data]\n",
    "test_indices = indices[num_training_data:]"
   ]
  },
  {
   "cell_type": "markdown",
   "id": "5339a06a",
   "metadata": {},
   "source": [
    "# Building the design matrix\n",
    "\n",
    "Recall that in order to find the multiple linear regression coefficients $\\hat{\\beta}$, we need to solve the following system of equations, also known as the *normal equations*:\n",
    "\n",
    "$$(\\mathbb{X}^T\\mathbb{X})\\hat{\\beta} = \\mathbb{X}^T\\mathbb{Y}$$\n",
    "\n",
    "The matrix $\\mathbb{X}$ is the so-called *design matrix*. Recall that its first column is made of ones, and each subsequent column corresponds to a feature of our model.\n",
    "\n",
    "Numpy and pandas make creating this matrix quite straightforward. We first convert our pandas dataframe to a numpy array `dataset`:"
   ]
  },
  {
   "cell_type": "code",
   "execution_count": 7,
   "id": "f6ebdeb3",
   "metadata": {},
   "outputs": [],
   "source": [
    "dataset = df.to_numpy()"
   ]
  },
  {
   "cell_type": "markdown",
   "id": "89d11886",
   "metadata": {},
   "source": [
    "We can now separate our training data from our test data by taking the corresponding rows from `dataset`:"
   ]
  },
  {
   "cell_type": "code",
   "execution_count": 8,
   "id": "62a0f675",
   "metadata": {},
   "outputs": [],
   "source": [
    "training_data = dataset[training_indices]\n",
    "test_data = dataset[test_indices]"
   ]
  },
  {
   "cell_type": "markdown",
   "id": "336009a7",
   "metadata": {},
   "source": [
    "`training_data` and `test_data` are two numpy matrices containing our train and test data. Now let's create the design matrix using our training data.\n",
    "\n",
    "The first thing we need is a column of ones. Numpy's function `ones` allows us to create an array of ones of whichever shape we like. We need a column of ones with `num_training_data` elements:"
   ]
  },
  {
   "cell_type": "code",
   "execution_count": 9,
   "id": "1c88f97e",
   "metadata": {},
   "outputs": [
    {
     "data": {
      "text/plain": [
       "array([[1.],\n",
       "       [1.],\n",
       "       [1.],\n",
       "       [1.],\n",
       "       [1.],\n",
       "       [1.],\n",
       "       [1.],\n",
       "       [1.],\n",
       "       [1.],\n",
       "       [1.],\n",
       "       [1.],\n",
       "       [1.],\n",
       "       [1.],\n",
       "       [1.],\n",
       "       [1.],\n",
       "       [1.],\n",
       "       [1.],\n",
       "       [1.],\n",
       "       [1.],\n",
       "       [1.],\n",
       "       [1.],\n",
       "       [1.],\n",
       "       [1.],\n",
       "       [1.],\n",
       "       [1.],\n",
       "       [1.],\n",
       "       [1.],\n",
       "       [1.],\n",
       "       [1.],\n",
       "       [1.],\n",
       "       [1.],\n",
       "       [1.],\n",
       "       [1.],\n",
       "       [1.],\n",
       "       [1.],\n",
       "       [1.],\n",
       "       [1.],\n",
       "       [1.],\n",
       "       [1.],\n",
       "       [1.],\n",
       "       [1.],\n",
       "       [1.],\n",
       "       [1.],\n",
       "       [1.],\n",
       "       [1.],\n",
       "       [1.],\n",
       "       [1.],\n",
       "       [1.],\n",
       "       [1.],\n",
       "       [1.],\n",
       "       [1.],\n",
       "       [1.],\n",
       "       [1.],\n",
       "       [1.],\n",
       "       [1.],\n",
       "       [1.],\n",
       "       [1.],\n",
       "       [1.],\n",
       "       [1.],\n",
       "       [1.],\n",
       "       [1.],\n",
       "       [1.],\n",
       "       [1.],\n",
       "       [1.],\n",
       "       [1.],\n",
       "       [1.],\n",
       "       [1.],\n",
       "       [1.],\n",
       "       [1.],\n",
       "       [1.]])"
      ]
     },
     "execution_count": 9,
     "metadata": {},
     "output_type": "execute_result"
    }
   ],
   "source": [
    "col_ones = np.ones((num_training_data,1))\n",
    "col_ones"
   ]
  },
  {
   "cell_type": "markdown",
   "id": "79875b0f",
   "metadata": {},
   "source": [
    "The next columns correspond to our features. By inspecting our data, we notice that the first and second columns (indices 0 and 1, in Python talk) correspond to area and distance. The third column (index 2), on the other hand, corresponds to the price, our label.\n",
    "\n",
    "Therefore, we only need to include columns from 0 to 2 (not including). In Python, we can isolate them like this:"
   ]
  },
  {
   "cell_type": "code",
   "execution_count": 10,
   "id": "5126c4e9",
   "metadata": {
    "scrolled": true
   },
   "outputs": [
    {
     "data": {
      "text/plain": [
       "array([[4.47902686e+02, 4.09549559e+00],\n",
       "       [2.46574520e+02, 2.42818667e+00],\n",
       "       [1.00985304e+02, 7.25352309e-01],\n",
       "       [2.22733328e+02, 2.54871779e+00],\n",
       "       [4.46597715e+02, 1.51053836e+00],\n",
       "       [6.22289852e+02, 3.24686939e+00],\n",
       "       [1.12234827e+02, 1.84615386e+00],\n",
       "       [5.94886432e+02, 5.10605570e+00],\n",
       "       [6.91374642e+02, 1.27672313e+00],\n",
       "       [3.30045440e+02, 3.30670578e+00],\n",
       "       [3.90958645e+02, 8.37447668e-01],\n",
       "       [3.64785534e+02, 1.95126626e+00],\n",
       "       [1.21305419e+02, 1.35570500e+00],\n",
       "       [3.81693023e+02, 5.12498320e+00],\n",
       "       [3.96049031e+02, 2.68970655e+00],\n",
       "       [2.55458558e+02, 4.37321006e+00],\n",
       "       [2.64451877e+02, 3.60422195e+00],\n",
       "       [1.01328528e+02, 5.99108184e-01],\n",
       "       [3.16629051e+02, 2.78347755e+00],\n",
       "       [2.52152923e+02, 5.17174739e+00],\n",
       "       [6.27962219e+02, 2.93358783e+00],\n",
       "       [6.15824132e+02, 3.93394685e+00],\n",
       "       [4.83877106e+02, 1.15125038e+00],\n",
       "       [1.99367717e+02, 1.49820220e+00],\n",
       "       [4.08842780e+02, 2.07392730e+00],\n",
       "       [2.50747067e+02, 1.50929527e+00],\n",
       "       [5.67708751e+02, 1.62119187e+00],\n",
       "       [3.19286661e+02, 1.39248891e+00],\n",
       "       [5.89996122e+02, 2.12355089e+00],\n",
       "       [6.76661849e+02, 3.10457295e+00],\n",
       "       [4.67046318e+02, 3.81471039e+00],\n",
       "       [2.59491471e+02, 3.80776416e+00],\n",
       "       [2.24031493e+02, 5.69810511e-01],\n",
       "       [1.86498580e+02, 7.15272215e-01],\n",
       "       [6.66124049e+02, 9.71818639e-01],\n",
       "       [2.13048793e+02, 4.35157116e+00],\n",
       "       [6.22439384e+02, 4.30700765e+00],\n",
       "       [3.22907569e+02, 3.04363099e+00],\n",
       "       [1.60496364e+02, 3.69591340e+00],\n",
       "       [3.11256961e+02, 1.89323219e+00],\n",
       "       [4.11050793e+02, 2.09991598e+00],\n",
       "       [6.09988019e+02, 3.32502157e+00],\n",
       "       [6.47576058e+02, 2.93589416e+00],\n",
       "       [5.88239487e+02, 4.42852913e+00],\n",
       "       [1.66666450e+02, 3.37906770e+00],\n",
       "       [4.43571189e+02, 1.52815499e+00],\n",
       "       [1.67015456e+02, 1.80943049e+00],\n",
       "       [3.67964697e+02, 4.18690997e+00],\n",
       "       [6.76136029e+02, 2.11799898e+00],\n",
       "       [1.51915413e+02, 2.66414078e+00],\n",
       "       [3.87003426e+02, 3.24250032e+00],\n",
       "       [5.77685633e+02, 4.04287905e+00],\n",
       "       [4.39649198e+02, 4.76166638e+00],\n",
       "       [4.27873899e+02, 3.59708640e+00],\n",
       "       [4.27815009e+02, 3.31992071e+00],\n",
       "       [5.19906168e+02, 4.36585264e+00],\n",
       "       [6.51166545e+02, 1.25238887e+00],\n",
       "       [1.56521639e+02, 4.24505057e+00],\n",
       "       [4.77272745e+02, 4.14966338e+00],\n",
       "       [3.93046713e+02, 2.56209423e+00],\n",
       "       [1.17466938e+02, 3.20459264e+00],\n",
       "       [1.14583937e+02, 6.00480849e-01],\n",
       "       [2.33195903e+02, 5.22568399e+00],\n",
       "       [2.12632737e+02, 5.06815253e+00],\n",
       "       [2.13200641e+02, 5.26752004e+00],\n",
       "       [4.59957518e+02, 3.85024524e+00],\n",
       "       [4.09283567e+02, 4.33888718e+00],\n",
       "       [6.63579611e+02, 1.62615123e+00],\n",
       "       [6.53649768e+02, 4.87367170e+00],\n",
       "       [2.70811528e+02, 4.13665691e+00]])"
      ]
     },
     "execution_count": 10,
     "metadata": {},
     "output_type": "execute_result"
    }
   ],
   "source": [
    "features = training_data[:, 0:2]   # 0:2 means 0 and 1, 2 is not included\n",
    "features"
   ]
  },
  {
   "cell_type": "markdown",
   "id": "23768cdd",
   "metadata": {},
   "source": [
    "Now we need to **horizontally stack** these columns to complete our design matrix. We do that using the funciton `hstack`:"
   ]
  },
  {
   "cell_type": "code",
   "execution_count": 11,
   "id": "7757278d",
   "metadata": {
    "scrolled": true
   },
   "outputs": [
    {
     "data": {
      "text/plain": [
       "array([[1.00000000e+00, 4.47902686e+02, 4.09549559e+00],\n",
       "       [1.00000000e+00, 2.46574520e+02, 2.42818667e+00],\n",
       "       [1.00000000e+00, 1.00985304e+02, 7.25352309e-01],\n",
       "       [1.00000000e+00, 2.22733328e+02, 2.54871779e+00],\n",
       "       [1.00000000e+00, 4.46597715e+02, 1.51053836e+00],\n",
       "       [1.00000000e+00, 6.22289852e+02, 3.24686939e+00],\n",
       "       [1.00000000e+00, 1.12234827e+02, 1.84615386e+00],\n",
       "       [1.00000000e+00, 5.94886432e+02, 5.10605570e+00],\n",
       "       [1.00000000e+00, 6.91374642e+02, 1.27672313e+00],\n",
       "       [1.00000000e+00, 3.30045440e+02, 3.30670578e+00],\n",
       "       [1.00000000e+00, 3.90958645e+02, 8.37447668e-01],\n",
       "       [1.00000000e+00, 3.64785534e+02, 1.95126626e+00],\n",
       "       [1.00000000e+00, 1.21305419e+02, 1.35570500e+00],\n",
       "       [1.00000000e+00, 3.81693023e+02, 5.12498320e+00],\n",
       "       [1.00000000e+00, 3.96049031e+02, 2.68970655e+00],\n",
       "       [1.00000000e+00, 2.55458558e+02, 4.37321006e+00],\n",
       "       [1.00000000e+00, 2.64451877e+02, 3.60422195e+00],\n",
       "       [1.00000000e+00, 1.01328528e+02, 5.99108184e-01],\n",
       "       [1.00000000e+00, 3.16629051e+02, 2.78347755e+00],\n",
       "       [1.00000000e+00, 2.52152923e+02, 5.17174739e+00],\n",
       "       [1.00000000e+00, 6.27962219e+02, 2.93358783e+00],\n",
       "       [1.00000000e+00, 6.15824132e+02, 3.93394685e+00],\n",
       "       [1.00000000e+00, 4.83877106e+02, 1.15125038e+00],\n",
       "       [1.00000000e+00, 1.99367717e+02, 1.49820220e+00],\n",
       "       [1.00000000e+00, 4.08842780e+02, 2.07392730e+00],\n",
       "       [1.00000000e+00, 2.50747067e+02, 1.50929527e+00],\n",
       "       [1.00000000e+00, 5.67708751e+02, 1.62119187e+00],\n",
       "       [1.00000000e+00, 3.19286661e+02, 1.39248891e+00],\n",
       "       [1.00000000e+00, 5.89996122e+02, 2.12355089e+00],\n",
       "       [1.00000000e+00, 6.76661849e+02, 3.10457295e+00],\n",
       "       [1.00000000e+00, 4.67046318e+02, 3.81471039e+00],\n",
       "       [1.00000000e+00, 2.59491471e+02, 3.80776416e+00],\n",
       "       [1.00000000e+00, 2.24031493e+02, 5.69810511e-01],\n",
       "       [1.00000000e+00, 1.86498580e+02, 7.15272215e-01],\n",
       "       [1.00000000e+00, 6.66124049e+02, 9.71818639e-01],\n",
       "       [1.00000000e+00, 2.13048793e+02, 4.35157116e+00],\n",
       "       [1.00000000e+00, 6.22439384e+02, 4.30700765e+00],\n",
       "       [1.00000000e+00, 3.22907569e+02, 3.04363099e+00],\n",
       "       [1.00000000e+00, 1.60496364e+02, 3.69591340e+00],\n",
       "       [1.00000000e+00, 3.11256961e+02, 1.89323219e+00],\n",
       "       [1.00000000e+00, 4.11050793e+02, 2.09991598e+00],\n",
       "       [1.00000000e+00, 6.09988019e+02, 3.32502157e+00],\n",
       "       [1.00000000e+00, 6.47576058e+02, 2.93589416e+00],\n",
       "       [1.00000000e+00, 5.88239487e+02, 4.42852913e+00],\n",
       "       [1.00000000e+00, 1.66666450e+02, 3.37906770e+00],\n",
       "       [1.00000000e+00, 4.43571189e+02, 1.52815499e+00],\n",
       "       [1.00000000e+00, 1.67015456e+02, 1.80943049e+00],\n",
       "       [1.00000000e+00, 3.67964697e+02, 4.18690997e+00],\n",
       "       [1.00000000e+00, 6.76136029e+02, 2.11799898e+00],\n",
       "       [1.00000000e+00, 1.51915413e+02, 2.66414078e+00],\n",
       "       [1.00000000e+00, 3.87003426e+02, 3.24250032e+00],\n",
       "       [1.00000000e+00, 5.77685633e+02, 4.04287905e+00],\n",
       "       [1.00000000e+00, 4.39649198e+02, 4.76166638e+00],\n",
       "       [1.00000000e+00, 4.27873899e+02, 3.59708640e+00],\n",
       "       [1.00000000e+00, 4.27815009e+02, 3.31992071e+00],\n",
       "       [1.00000000e+00, 5.19906168e+02, 4.36585264e+00],\n",
       "       [1.00000000e+00, 6.51166545e+02, 1.25238887e+00],\n",
       "       [1.00000000e+00, 1.56521639e+02, 4.24505057e+00],\n",
       "       [1.00000000e+00, 4.77272745e+02, 4.14966338e+00],\n",
       "       [1.00000000e+00, 3.93046713e+02, 2.56209423e+00],\n",
       "       [1.00000000e+00, 1.17466938e+02, 3.20459264e+00],\n",
       "       [1.00000000e+00, 1.14583937e+02, 6.00480849e-01],\n",
       "       [1.00000000e+00, 2.33195903e+02, 5.22568399e+00],\n",
       "       [1.00000000e+00, 2.12632737e+02, 5.06815253e+00],\n",
       "       [1.00000000e+00, 2.13200641e+02, 5.26752004e+00],\n",
       "       [1.00000000e+00, 4.59957518e+02, 3.85024524e+00],\n",
       "       [1.00000000e+00, 4.09283567e+02, 4.33888718e+00],\n",
       "       [1.00000000e+00, 6.63579611e+02, 1.62615123e+00],\n",
       "       [1.00000000e+00, 6.53649768e+02, 4.87367170e+00],\n",
       "       [1.00000000e+00, 2.70811528e+02, 4.13665691e+00]])"
      ]
     },
     "execution_count": 11,
     "metadata": {},
     "output_type": "execute_result"
    }
   ],
   "source": [
    "X = np.hstack([col_ones, features])\n",
    "X"
   ]
  },
  {
   "cell_type": "markdown",
   "id": "c8f91ae8",
   "metadata": {},
   "source": [
    "Nice! Let us now take the last column of our training data to get our prices:"
   ]
  },
  {
   "cell_type": "code",
   "execution_count": 12,
   "id": "c9a5a5e0",
   "metadata": {
    "scrolled": false
   },
   "outputs": [
    {
     "data": {
      "text/plain": [
       "array([ 341.39483372,  311.10216494,  179.27027801,  272.61261938,\n",
       "        689.30399728,  635.18467295,  160.4626726 ,  273.40983118,\n",
       "       1116.66436173,  329.37522468,  682.85762067,  514.08169   ,\n",
       "        191.918824  ,  171.40996354,  469.83165371,  171.39172528,\n",
       "        239.3565539 ,  183.84592183,  366.07566842,  107.91273206,\n",
       "        700.33615336,  500.92849545,  799.48385071,  307.62928582,\n",
       "        561.23857169,  386.44943006,  857.68686668,  503.79989264,\n",
       "        802.00265483,  719.99530362,  395.78399345,  218.75048027,\n",
       "        409.19652603,  332.26271275, 1137.07074966,  143.61692006,\n",
       "        436.31640319,  347.92806249,  139.34261543,  443.83618124,\n",
       "        561.05003151,  608.18402115,  721.85179111,  390.53973305,\n",
       "        161.00066679,  682.26056532,  241.56062451,  269.55196595,\n",
       "        920.53743251,  179.74947142,  394.30673172,  450.67444314,\n",
       "        246.49788836,  390.42089627,  426.21652547,  354.49636926,\n",
       "       1056.42658124,  109.46554566,  356.23945657,  481.42451757,\n",
       "        118.79917815,  207.92575517,   95.58369292,   96.90077846,\n",
       "         84.22216748,  384.7800179 ,  281.47768077, 1001.80883022,\n",
       "        346.72355158,  201.41008616])"
      ]
     },
     "execution_count": 12,
     "metadata": {},
     "output_type": "execute_result"
    }
   ],
   "source": [
    "Y = training_data[:,-1]    # This is equivalent to training_data[:,2]. \"-1\" means \"last index\"\n",
    "Y"
   ]
  },
  {
   "cell_type": "markdown",
   "id": "1bab2978",
   "metadata": {},
   "source": [
    "## Solving for the model parameters\n",
    "\n",
    "All we need to do now is solve the linear system corresponding to the normal equations.\n",
    "\n",
    "We're in luck, because `numpy` is excellent at solving linear systems! In fact, we can solve very large systems very quickly and with great precision.\n",
    "\n",
    "In order to leverage `numpy`'s system solving capabilities, we need to express our linear system as:\n",
    "\n",
    "$$ A\\mathbf{x} = \\mathbf{b} $$\n",
    "\n",
    "Where $A$ is a matrix of constant coefficients, $\\mathbf{b}$ is a vector (or column matrix) of constants, and $\\mathbf{x}$ is our vector of unknowns.\n",
    "\n",
    "Let's compare this equation with the normal equations:\n",
    "\n",
    "$$(\\mathbb{X}^T\\mathbb{X})\\hat{\\beta} = \\mathbb{X}^T\\mathbb{Y}$$\n",
    "\n",
    "Our vector of unknowns here are the $\\hat{\\beta}$. Likewise, we find that:\n",
    "\n",
    "* $A = \\mathbb{X}^T\\mathbb{X}$\n",
    "* $\\mathbf{b} = \\mathbb{X}^T\\mathbb{Y}$\n",
    "\n",
    "Let's see how we can build  $A$ and $\\mathbf{b}$ using `numpy`:"
   ]
  },
  {
   "cell_type": "code",
   "execution_count": 13,
   "id": "08939782",
   "metadata": {},
   "outputs": [],
   "source": [
    "A = X.T.dot(X)           # Transposes X and multiplies it by X\n",
    "b = X.T.dot(Y)           # Transposes X and multiplies it by Y"
   ]
  },
  {
   "cell_type": "markdown",
   "id": "e5d9508a",
   "metadata": {},
   "source": [
    "Solving the system for $\\hat{\\beta}$ is now as simple as calling a function. To be more precise, we'll be calling the function `solve`, which is stored in the linear algebra module `linalg` of `numpy`:"
   ]
  },
  {
   "cell_type": "code",
   "execution_count": 14,
   "id": "0905cc9c",
   "metadata": {},
   "outputs": [
    {
     "data": {
      "text/plain": [
       "array([ 271.42315635,    1.20555927, -107.25915327])"
      ]
     },
     "execution_count": 14,
     "metadata": {},
     "output_type": "execute_result"
    }
   ],
   "source": [
    "beta_hat = np.linalg.solve(X.T.dot(X), X.T.dot(Y))\n",
    "beta_hat"
   ]
  },
  {
   "cell_type": "markdown",
   "id": "75f61514",
   "metadata": {},
   "source": [
    "## Evaluating our model's performance\n",
    "\n",
    "As before, in order to evaluate how well our model should perform on real-world data, we'll calculate the mean squared error, MSE, using our test data, which we expect to be a good proxy to real world data.\n",
    "\n",
    "Let us begin by defining a function `mse`:"
   ]
  },
  {
   "cell_type": "code",
   "execution_count": 15,
   "id": "eb5b1ae7",
   "metadata": {},
   "outputs": [],
   "source": [
    "def mse(beta, x, y_real):\n",
    "    y_predicted = x.dot(beta)\n",
    "    error = np.mean((y_real - y_predicted)**2)\n",
    "    return error"
   ]
  },
  {
   "cell_type": "markdown",
   "id": "6b131951",
   "metadata": {},
   "source": [
    "Let's see how well we're doing when we plug in our test data:"
   ]
  },
  {
   "cell_type": "code",
   "execution_count": 16,
   "id": "92741482",
   "metadata": {},
   "outputs": [
    {
     "data": {
      "text/plain": [
       "6663.507546369088"
      ]
     },
     "execution_count": 16,
     "metadata": {},
     "output_type": "execute_result"
    }
   ],
   "source": [
    "X_test = np.hstack([np.ones((num_test_data,1)), test_data[:,0:2]])\n",
    "Y_test = test_data[:,-1]\n",
    "\n",
    "test_error = mse(beta_hat, X_test, Y_test)\n",
    "test_error"
   ]
  },
  {
   "cell_type": "markdown",
   "id": "b97428e8",
   "metadata": {},
   "source": [
    "## Graphically visualizing our model's quality\n",
    "\n",
    "It's nice to get a sense of how well our model behaves in the test data by plotting the predicted prices versus their actual values.\n",
    "\n",
    "If our predictions were perfect, all our values would line up along the line $y = x$. In practice, however, this is not the case. The more our predicted points deviate from this line, the worse our predictions are.\n",
    "\n",
    "Let's see how we can visualize our data using `matplotlib`:"
   ]
  },
  {
   "cell_type": "code",
   "execution_count": 20,
   "id": "e0e35be2",
   "metadata": {},
   "outputs": [
    {
     "data": {
      "text/plain": [
       "<matplotlib.legend.Legend at 0x7f78cc039390>"
      ]
     },
     "execution_count": 20,
     "metadata": {},
     "output_type": "execute_result"
    },
    {
     "data": {
      "image/png": "[encoded data removed]",
      "text/plain": [
       "<Figure size 640x480 with 1 Axes>"
      ]
     },
     "metadata": {},
     "output_type": "display_data"
    }
   ],
   "source": [
    "import matplotlib.pyplot as plt\n",
    "\n",
    "Y_predicted = X_test.dot(beta_hat)\n",
    "\n",
    "plt.plot(Y_test, Y_predicted, 'o')\n",
    "x = np.linspace(np.min(Y_test), np.max(Y_test))\n",
    "\n",
    "plt.plot(x,x)\n",
    "plt.grid()\n",
    "plt.legend([\"Predicted values\", \"y=x\"])"
   ]
  },
  {
   "cell_type": "markdown",
   "id": "b934d5a1",
   "metadata": {},
   "source": [
    "Not bad at all, but there's room for improvement. In the next lectures, we'll see how we can leverage our "
   ]
  }
 ],
 "metadata": {
  "kernelspec": {
   "display_name": "Python 3 (ipykernel)",
   "language": "python",
   "name": "python3"
  },
  "language_info": {
   "codemirror_mode": {
    "name": "ipython",
    "version": 3
   },
   "file_extension": ".py",
   "mimetype": "text/x-python",
   "name": "python",
   "nbconvert_exporter": "python",
   "pygments_lexer": "ipython3",
   "version": "3.10.9"
  }
 },
 "nbformat": 4,
 "nbformat_minor": 5
}
